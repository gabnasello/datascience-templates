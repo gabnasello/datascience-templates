{
 "cells": [
  {
   "cell_type": "markdown",
   "id": "c51a1b86",
   "metadata": {},
   "source": [
    "\n",
    "# 📊 Bar Plots & One-way ANOVA\n",
    "Analyze and visualize group differences with bar plots and ANOVA in R.\n",
    "\n",
    "---\n",
    "\n",
    "**🗂️ Last updated:** 18 September 2025  \n",
    "**🐳 Docker image:** `gnasello/datascience-env:2025-09-18`\n"
   ]
  },
  {
   "cell_type": "markdown",
   "id": "82131ec3",
   "metadata": {},
   "source": [
    "## 📦 Load Required Packages"
   ]
  },
  {
   "cell_type": "code",
   "execution_count": null,
   "id": "9d1ef08b",
   "metadata": {},
   "outputs": [],
   "source": [
    "\n",
    "library(dataprepUtils)\n",
    "library(statsUtils)\n",
    "library(ggplotUtils)\n"
   ]
  },
  {
   "cell_type": "markdown",
   "id": "09a28963-2425-49a5-8cdb-fc2b69a3286e",
   "metadata": {},
   "source": [
    "## 🏷️ Customize Plot Labels"
   ]
  },
  {
   "cell_type": "code",
   "execution_count": null,
   "id": "de49c217",
   "metadata": {},
   "outputs": [],
   "source": [
    "\n",
    "title <- \"Plot title\"\n",
    "xlabel <- \"X-axis label\"\n",
    "ylabel <- \"Y-axis label\"\n"
   ]
  },
  {
   "cell_type": "markdown",
   "id": "b5855031-07b1-407d-bd79-bd27cb1c2b5b",
   "metadata": {},
   "source": [
    "## 🎨 Set Colors for Groups"
   ]
  },
  {
   "cell_type": "code",
   "execution_count": null,
   "id": "df22b7fb",
   "metadata": {},
   "outputs": [],
   "source": [
    "\n",
    "scale_color_manual.values <- c(\n",
    "  \"Blank\" = \"#8b8c8cff\",\n",
    "  \"αCDs\" = \"#4dbbd5ff\",\n",
    "  \"AS\" = \"#ff6666ff\",\n",
    "  \"αCDs + AS\" = \"#4d9999ff\"\n",
    ")\n"
   ]
  },
  {
   "cell_type": "markdown",
   "id": "b094845d",
   "metadata": {},
   "source": [
    "## 📁 Load Your Data"
   ]
  },
  {
   "cell_type": "code",
   "execution_count": null,
   "id": "1bb7d4b9",
   "metadata": {},
   "outputs": [],
   "source": [
    "filetable <- \"data.csv\"\n",
    "\n",
    "filename <- tools::file_path_sans_ext(filetable)\n",
    "df <- read_and_process_data(\n",
    "  filetable,\n",
    "  x_col = \"x\",\n",
    "  y_col = \"y\",\n",
    "  xlabels_ordered = names(scale_color_manual.values)\n",
    ")\n",
    "head(df)\n",
    "tail(df)\n"
   ]
  },
  {
   "cell_type": "markdown",
   "id": "d195a8e0",
   "metadata": {},
   "source": [
    "## 🧹 Optional Data Manipulation *(commented out)*"
   ]
  },
  {
   "cell_type": "markdown",
   "id": "dfe520f1-0625-4d08-92ad-9c9d68240158",
   "metadata": {},
   "source": [
    "### ✅ Option 1: Keep only specific values in a column"
   ]
  },
  {
   "cell_type": "code",
   "execution_count": null,
   "id": "2e56d2b2",
   "metadata": {},
   "outputs": [],
   "source": [
    "\n",
    "# Uncomment and edit this section to keep only specific values in a chosen column\n",
    "# values_to_keep <- c(\"Value1\", \"Value2\")      # <-- Replace with values you want to keep\n",
    "# column <- \"ColumnName\"                       # <-- Replace with the column name\n",
    "# df <- subset(df, df[[column]] %in% values_to_keep)\n",
    "# head(df)\n"
   ]
  },
  {
   "cell_type": "markdown",
   "id": "df4e55db-87dd-4a58-85df-0556dcd16356",
   "metadata": {},
   "source": [
    "### ❌ Option 2: Remove specific values from a column\n"
   ]
  },
  {
   "cell_type": "code",
   "execution_count": null,
   "id": "53f72f30-1de9-401f-952c-42a6a373c243",
   "metadata": {},
   "outputs": [],
   "source": [
    "\n",
    "# Uncomment and edit this section to remove specific values from a chosen column\n",
    "# values_to_remove <- c(\"Value1\", \"Value2\")    # <-- Replace with values you want to remove\n",
    "# column <- \"ColumnName\"                       # <-- Replace with the column name\n",
    "# df <- subset(df, !(df[[column]] %in% values_to_remove))\n",
    "# head(df)\n"
   ]
  },
  {
   "cell_type": "markdown",
   "id": "a74b3ace",
   "metadata": {},
   "source": [
    "## 📊 Summarize the Data"
   ]
  },
  {
   "cell_type": "code",
   "execution_count": null,
   "id": "adb7540f",
   "metadata": {},
   "outputs": [],
   "source": [
    "\n",
    "df_summary <- statsUtils::data_summary(df, varname = \"y\", groupnames = c(\"x\"))\n",
    "print(df_summary)\n"
   ]
  },
  {
   "cell_type": "markdown",
   "id": "4f2e6c72",
   "metadata": {},
   "source": [
    "## 🧪 Check ANOVA Assumptions"
   ]
  },
  {
   "cell_type": "code",
   "execution_count": null,
   "id": "1c2e17be",
   "metadata": {},
   "outputs": [],
   "source": [
    "check_anova_assumptions(df, response = 'y', group = 'x')"
   ]
  },
  {
   "cell_type": "markdown",
   "id": "c9f8b938",
   "metadata": {},
   "source": [
    "## 🧮 Run One-way ANOVA"
   ]
  },
  {
   "cell_type": "code",
   "execution_count": null,
   "id": "3af20819",
   "metadata": {},
   "outputs": [],
   "source": [
    "\n",
    "formula_var <- y ~ x\n",
    "res.aov <- rstatix::anova_test(data = df, formula = formula_var)\n",
    "res.aov\n"
   ]
  },
  {
   "cell_type": "markdown",
   "id": "fae7da2f",
   "metadata": {},
   "source": [
    "## 🔍 Post-hoc Tukey Test"
   ]
  },
  {
   "cell_type": "code",
   "execution_count": null,
   "id": "b903417a",
   "metadata": {},
   "outputs": [],
   "source": [
    "\n",
    "pwc <- rstatix::tukey_hsd(df, formula = formula_var)\n",
    "pwc\n"
   ]
  },
  {
   "cell_type": "markdown",
   "id": "3361b172",
   "metadata": {},
   "source": [
    "## 📊 Create Bar Plot"
   ]
  },
  {
   "cell_type": "code",
   "execution_count": null,
   "id": "80515a69",
   "metadata": {},
   "outputs": [],
   "source": [
    "\n",
    "ylim <- c(0, 35000)\n",
    "width <- 4.4\n",
    "height <- 7.6\n",
    "\n",
    "p <- create_complete_barplot(\n",
    "  df,\n",
    "  width = width,\n",
    "  height = height,\n",
    "  ylim = ylim,\n",
    "  scale_color_manual.values = scale_color_manual.values,\n",
    "  filename = paste(filename, '-barplot', sep=''),\n",
    "  ylabel = ylabel\n",
    ")\n",
    "\n",
    "p\n"
   ]
  },
  {
   "cell_type": "markdown",
   "id": "ee323bb0",
   "metadata": {},
   "source": [
    "## 📐 Add p-values to Plot"
   ]
  },
  {
   "cell_type": "code",
   "execution_count": null,
   "id": "9eafb62c",
   "metadata": {},
   "outputs": [],
   "source": [
    "\n",
    "pwc <- rstatix::add_xy_position(pwc, x = \"x\")\n",
    "p_stats <- add_stat_annotations_auto(p, pwc, y.buffer = 0.5)\n",
    "p_stats\n"
   ]
  },
  {
   "cell_type": "markdown",
   "id": "ea01a36d",
   "metadata": {},
   "source": [
    "## 🧩 Arrange Plots Side-by-Side"
   ]
  },
  {
   "cell_type": "code",
   "execution_count": null,
   "id": "0eb2c343",
   "metadata": {},
   "outputs": [],
   "source": [
    "\n",
    "width_aligned <- 2 * width\n",
    "options(repr.plot.width = width_aligned)\n",
    "\n",
    "aligned_plots <- ggpubr::ggarrange(\n",
    "  p, p_stats,\n",
    "  nrow = 1,\n",
    "  align = \"hv\",\n",
    "  common.legend = FALSE\n",
    ")\n",
    "\n",
    "aligned_plots\n"
   ]
  },
  {
   "cell_type": "markdown",
   "id": "e5222574",
   "metadata": {},
   "source": [
    "## 💾 Export Plots"
   ]
  },
  {
   "cell_type": "code",
   "execution_count": null,
   "id": "893a4677",
   "metadata": {},
   "outputs": [],
   "source": [
    "\n",
    "fileoutput <- paste0(filename, \"-barplot_stats.svg\")\n",
    "ggplot2::ggsave(file = fileoutput, plot = aligned_plots, width = width_aligned, height = height)\n",
    "\n",
    "fileoutput <- paste0(filename, \"-barplot_stats.png\")\n",
    "ggplot2::ggsave(file = fileoutput, plot = aligned_plots, width = width_aligned, height = height)\n"
   ]
  },
  {
   "cell_type": "markdown",
   "id": "5755067e",
   "metadata": {},
   "source": [
    "## 📚 References"
   ]
  },
  {
   "cell_type": "markdown",
   "id": "e8f85dec",
   "metadata": {},
   "source": [
    "\n",
    "- [ANOVA in R (datanovia.com)](https://www.datanovia.com/en/lessons/anova-in-r/)\n",
    "- [ggplot2 Bar Plot Guide](http://www.sthda.com/english/wiki/ggplot2-line-plot-quick-start-guide-r-software-and-data-visualization#line-graph-with-error-bars)\n",
    "- [Theory: Parametric vs Non-parametric](https://www.youtube.com/watch?v=dyGjxBi4-qo)\n",
    "- [Theory: One-way ANOVA](https://www.youtube.com/watch?v=_VFLX7xJuqk)\n",
    "- [Implementation in R](https://www.youtube.com/watch?v=lpdFr5SZR0Q)\n"
   ]
  }
 ],
 "metadata": {
  "kernelspec": {
   "display_name": "R",
   "language": "R",
   "name": "ir"
  },
  "language_info": {
   "codemirror_mode": "r",
   "file_extension": ".r",
   "mimetype": "text/x-r-source",
   "name": "R",
   "pygments_lexer": "r",
   "version": "4.3.3"
  }
 },
 "nbformat": 4,
 "nbformat_minor": 5
}
