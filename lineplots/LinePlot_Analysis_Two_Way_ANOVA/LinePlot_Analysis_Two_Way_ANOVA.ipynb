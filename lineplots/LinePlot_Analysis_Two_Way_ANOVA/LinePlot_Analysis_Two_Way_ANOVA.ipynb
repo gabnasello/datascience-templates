{
 "cells": [
  {
   "cell_type": "markdown",
   "id": "2b7a631a-83d7-4e8a-856b-5d3f893fbdb8",
   "metadata": {},
   "source": [
    "# 📊 Line Plots & Two-way ANOVA\n",
    "Analyze and visualize group differences with line plots and Two-way ANOVA in R.\n",
    "\n",
    "---\n",
    "\n",
    "**🗂️ Last updated:** 22 October 2025 \n",
    "\n",
    "**🐳 Docker image:** `gnasello/datascience-env:2025-09-18`\n"
   ]
  },
  {
   "cell_type": "markdown",
   "id": "8ec19f95-6dae-479c-a07a-bd0a39b78c43",
   "metadata": {},
   "source": [
    "### 📦 Load Required Packages\n"
   ]
  },
  {
   "cell_type": "code",
   "execution_count": null,
   "id": "b960f27a-66e1-4542-8faa-5608291d56ac",
   "metadata": {
    "tags": [],
    "vscode": {
     "languageId": "r"
    }
   },
   "outputs": [],
   "source": [
    "library(ggplot2)\n",
    "library(dataprepUtils)\n",
    "library(ggplotUtils)\n",
    "library(statsUtils)\n",
    "library(rstatix)\n",
    "library(lme4)\n",
    "library(emmeans)"
   ]
  },
  {
   "cell_type": "markdown",
   "id": "c7d2f57c-860b-4c12-ac7a-6aa0b45023d8",
   "metadata": {},
   "source": [
    "### 📁 Load and Prepare Data\n"
   ]
  },
  {
   "cell_type": "code",
   "execution_count": null,
   "id": "545adf48-6d93-435e-ab5b-02e097a2dcba",
   "metadata": {
    "tags": [],
    "vscode": {
     "languageId": "r"
    }
   },
   "outputs": [],
   "source": [
    "filetable <- \"data.csv\"\n",
    "\n",
    "filename <- tools::file_path_sans_ext(filetable)\n",
    "\n",
    "title <- 'Plot Title'\n",
    "xlabel <- 'Time (day)'\n",
    "ylabel <- 'Drug released (µg)'\n",
    "\n",
    "# color of each group\n",
    "scale_color_manual.values <- c(\"AS\" = \"#dca01cff\", \n",
    "                               \"AS+lapo\" = \"#386e28ff\")\n",
    "\n",
    "# Use the function to read and process the data\n",
    "df <- read_and_process_data(filetable, \n",
    "                            x_col = \"day\", \n",
    "                            y_col = 'value',\n",
    "                            group = 'condition',\n",
    "                            #xlabels_ordered = names(scale_color_manual.values),\n",
    "                           )\n",
    "head(df)\n",
    "tail(df)"
   ]
  },
  {
   "cell_type": "markdown",
   "id": "0f6da34a-fafb-44f2-9c1c-3e1963b6a8f0",
   "metadata": {},
   "source": [
    "## 🧹 Optional Data Manipulation *(commented out)*"
   ]
  },
  {
   "cell_type": "markdown",
   "id": "fb6c7198-a4cd-4054-8fa7-216a5c449c79",
   "metadata": {},
   "source": [
    "### ✅ Option 1: Keep only specific values in a column"
   ]
  },
  {
   "cell_type": "code",
   "execution_count": null,
   "id": "c908d32e-87ac-4d48-b770-e8ef3aa92920",
   "metadata": {},
   "outputs": [],
   "source": [
    "\n",
    "# Uncomment and edit this section to keep only specific values in a chosen column\n",
    "# values_to_keep <- c(\"Value1\", \"Value2\")      # <-- Replace with values you want to keep\n",
    "# column <- \"ColumnName\"                       # <-- Replace with the column name\n",
    "# df <- subset(df, df[[column]] %in% values_to_keep)\n",
    "# head(df)\n"
   ]
  },
  {
   "cell_type": "markdown",
   "id": "4b58d2f3-08a7-4768-86b2-05728d563d5f",
   "metadata": {},
   "source": [
    "### ❌ Option 2: Remove specific values from a column\n"
   ]
  },
  {
   "cell_type": "code",
   "execution_count": null,
   "id": "75e7879a-85ed-46f6-b3e9-3154e2f4a19d",
   "metadata": {},
   "outputs": [],
   "source": [
    "\n",
    "# Uncomment and edit this section to remove specific values from a chosen column\n",
    "# values_to_remove <- c(\"Value1\", \"Value2\")    # <-- Replace with values you want to remove\n",
    "# column <- \"ColumnName\"                       # <-- Replace with the column name\n",
    "# df <- subset(df, !(df[[column]] %in% values_to_remove))\n",
    "# head(df)\n"
   ]
  },
  {
   "cell_type": "markdown",
   "id": "f88668f6-f7cb-485b-b43e-a83c7fcf98aa",
   "metadata": {},
   "source": [
    "### 📊 Line Plot\n"
   ]
  },
  {
   "cell_type": "markdown",
   "id": "048c5571-38ae-4526-b3d7-0b40a28b6907",
   "metadata": {
    "tags": []
   },
   "source": [
    "### 📈 Summarize Data by Group\n"
   ]
  },
  {
   "cell_type": "markdown",
   "id": "9c210a7c-2c67-4394-af27-e558f32c8f19",
   "metadata": {
    "tags": []
   },
   "source": [
    "The function below will be used to calculate the mean and the standard deviation, for the variable of interest, in each group. See [tutorial](http://www.sthda.com/english/wiki/ggplot2-line-plot-quick-start-guide-r-software-and-data-visualization#line-graph-with-error-bars)\n"
   ]
  },
  {
   "cell_type": "code",
   "execution_count": null,
   "id": "bbffdedb-1831-4575-b981-2ceeaf9ff4ad",
   "metadata": {
    "scrolled": true,
    "tags": [],
    "vscode": {
     "languageId": "r"
    }
   },
   "outputs": [],
   "source": [
    "df_summary <- data_summary(df, varname=\"y\", \n",
    "                           groupnames=c(\"group\", \"x\"))\n",
    "df_summary <- df_summary[complete.cases(df_summary$x),]\n",
    "\n",
    "df_summary"
   ]
  },
  {
   "cell_type": "markdown",
   "id": "8a57cdd2-7339-4c90-9c65-a38674f299b8",
   "metadata": {},
   "source": [
    "### 🧪 Two-Way Mixed ANOVA\n"
   ]
  },
  {
   "cell_type": "markdown",
   "id": "c59bd393-6bcc-4071-a4fb-de1471553f4d",
   "metadata": {},
   "source": [
    "Read more on the theory of this method on [Datanovia](https://www.datanovia.com/en/lessons/mixed-anova-in-r/#two-way-mixed)\n"
   ]
  },
  {
   "cell_type": "markdown",
   "id": "3fb408bc-eaaf-4e97-9412-100f644d00e1",
   "metadata": {},
   "source": [
    "#### 🧮 ANOVA Computation\n"
   ]
  },
  {
   "cell_type": "code",
   "execution_count": null,
   "id": "0dd8f270-6b54-41d9-a138-55ce525a6b15",
   "metadata": {
    "vscode": {
     "languageId": "r"
    }
   },
   "outputs": [],
   "source": [
    "# Two-way mixed ANOVA test\n",
    "res.aov <- anova_test(\n",
    "                      data = df, dv = y, wid = replicate,\n",
    "                      between = group, within = x\n",
    "                      )\n",
    "get_anova_table(res.aov)"
   ]
  },
  {
   "cell_type": "markdown",
   "id": "1eed0196-1a8f-4779-92bb-4b08b61a225f",
   "metadata": {},
   "source": [
    "### 🔍 Post-hoc Analysis\n"
   ]
  },
  {
   "cell_type": "markdown",
   "id": "49ac1421-535b-4d58-a9de-d0c1d41d43aa",
   "metadata": {},
   "source": [
    "#### 📌 Simple Main Effects\n"
   ]
  },
  {
   "cell_type": "markdown",
   "id": "9e085625-2bfb-4027-a69f-da71a2a6c37d",
   "metadata": {},
   "source": [
    "Explanation: Significant Two-Way Interaction\n"
   ]
  },
  {
   "cell_type": "code",
   "execution_count": null,
   "id": "4797c4e6-ebd8-4bc0-b2f5-ab7cd26cbcc4",
   "metadata": {
    "vscode": {
     "languageId": "r"
    }
   },
   "outputs": [],
   "source": [
    "# Effect of group at each time point\n",
    "one.way <- df %>%\n",
    "              group_by(x) %>%\n",
    "              anova_test(dv = y, wid = replicate, between = group) %>%\n",
    "              get_anova_table() %>%\n",
    "              adjust_pvalue(method = \"bonferroni\")\n",
    "one.way"
   ]
  },
  {
   "cell_type": "markdown",
   "id": "47315914-a340-4f2c-b531-52d8576a8ac4",
   "metadata": {},
   "source": [
    "Explanation: Non-Significant Two-Way Interaction\n"
   ]
  },
  {
   "cell_type": "code",
   "execution_count": null,
   "id": "be64e4fc-65e5-4ddf-82fe-95cc53437638",
   "metadata": {
    "vscode": {
     "languageId": "r"
    }
   },
   "outputs": [],
   "source": [
    "df %>%\n",
    "      pairwise_t_test(\n",
    "        y ~ group, paired = TRUE, \n",
    "        p.adjust.method = \"bonferroni\"\n",
    "      )"
   ]
  },
  {
   "cell_type": "markdown",
   "id": "9de7f982-6c64-43e3-b7ed-0bff4b3d366b",
   "metadata": {},
   "source": [
    "#### 🔬 Pairwise Comparisons\n"
   ]
  },
  {
   "cell_type": "code",
   "execution_count": null,
   "id": "f7ecb07b-dafb-4753-941c-96394eb65c53",
   "metadata": {
    "vscode": {
     "languageId": "r"
    }
   },
   "outputs": [],
   "source": [
    "# Pairwise comparisons between group levels\n",
    "pwc <- df %>%\n",
    "          group_by(x) %>%\n",
    "          pairwise_t_test(y ~ group, p.adjust.method = \"bonferroni\")\n",
    "pwc"
   ]
  },
  {
   "cell_type": "markdown",
   "id": "6f5ce1da-232e-4b8b-bb33-533e5a7f733d",
   "metadata": {
    "tags": []
   },
   "source": [
    "### 📉 Plot with Error Bars\n"
   ]
  },
  {
   "cell_type": "code",
   "execution_count": null,
   "id": "97da4453-f33a-4ac1-8b29-955eb9102ce2",
   "metadata": {
    "tags": [],
    "vscode": {
     "languageId": "r"
    }
   },
   "outputs": [],
   "source": [
    "color='#404040ff'\n",
    "\n",
    "ylim <- c(0,12)\n",
    "xlim <- c(0,16)\n",
    "width=9\n",
    "height=7.6\n",
    "\n",
    "p <- ggplot() +\n",
    "     geom_line(data=df_summary, aes(x=x, y=mean, color=group), linetype = \"dashed\", linewidth=1.5) +\n",
    "     geom_point(data=df_summary, aes(x=x, y=mean, color=group), size=4.5, shape=15, stroke=2) +\n",
    "     geom_errorbar(data=df_summary, aes(x=x, y=mean, ymin=mean-sd, ymax=mean+sd), width=.4, linewidth=0.75, color=color)\n",
    "\n",
    "img <- apply_minimal_theme(p, width=width, height=height,\n",
    "                           title=title,\n",
    "                           plot.title = element_text(size = 24),\n",
    "                           axis.text=element_text(size=24),\n",
    "                           axis.title=element_text(size=26),\n",
    "                           xlabel = xlabel, \n",
    "                           ylabel= ylabel, \n",
    "                           xlim = xlim,\n",
    "                           ylim = ylim,\n",
    "                           scale_color_manual.values = scale_color_manual.values,\n",
    "                          ) + \n",
    "            theme(axis.line.x.bottom=element_line(linewidth=0.75),\n",
    "                  axis.line.y.left=element_line(linewidth=0.75))#+\n",
    "            # scale_x_continuous(breaks = seq(0, 16, by = 3))\n",
    "\n",
    "img"
   ]
  },
  {
   "cell_type": "markdown",
   "id": "9f305518-859d-449f-b0f2-6f4df1351a86",
   "metadata": {},
   "source": [
    "## 📐 Add p-values to Plot"
   ]
  },
  {
   "cell_type": "code",
   "execution_count": null,
   "id": "58a8d3c4-7a54-47eb-a233-b3199ef8042c",
   "metadata": {},
   "outputs": [],
   "source": [
    "pwc <- rstatix::add_y_position(pwc)"
   ]
  },
  {
   "cell_type": "code",
   "execution_count": null,
   "id": "24c0e37a-d0b3-470f-9d6f-1c2454885d58",
   "metadata": {},
   "outputs": [],
   "source": [
    "# Use the maximum y.position from the preprocessed pwc data\n",
    "max_annotation_y <- max(pwc$y.position, na.rm = TRUE)\n",
    "\n",
    "y.buffer=0.1\n",
    "min.y = 0\n",
    "# Set y-limits with buffer\n",
    "ylim_auto <- c(min.y, max_annotation_y + (y.buffer * max_annotation_y))\n",
    "\n",
    "p_stats <- apply_minimal_theme(p  + ggpubr::stat_pvalue_manual(pwc, x = 'x', label.size = 8, label = \"p.adj.signif\") , width=width, height=height,\n",
    "                           title=title,\n",
    "                           plot.title = element_text(size = 24),\n",
    "                           axis.text=element_text(size=24),\n",
    "                           axis.title=element_text(size=26),\n",
    "                           xlabel = xlabel, \n",
    "                           ylabel= ylabel, \n",
    "                           xlim = xlim,\n",
    "                           ylim = ylim_auto,\n",
    "                           scale_color_manual.values = scale_color_manual.values,\n",
    "                          ) + \n",
    "            theme(axis.line.x.bottom=element_line(linewidth=0.75),\n",
    "                  axis.line.y.left=element_line(linewidth=0.75))\n",
    "\n",
    "p_stats"
   ]
  },
  {
   "cell_type": "markdown",
   "id": "ad65d2ad-af2c-497e-b929-88e5f8a80ea0",
   "metadata": {},
   "source": [
    "## 🧩 Arrange Plots Side-by-Side"
   ]
  },
  {
   "cell_type": "code",
   "execution_count": null,
   "id": "9821c362-8183-4824-8231-ee9245a012f7",
   "metadata": {},
   "outputs": [],
   "source": [
    "\n",
    "width_aligned <- 2 * width\n",
    "options(repr.plot.width = width_aligned)\n",
    "\n",
    "aligned_plots <- ggpubr::ggarrange(\n",
    "  img, p_stats,\n",
    "  nrow = 1,\n",
    "  align = \"hv\",\n",
    "  common.legend = FALSE\n",
    ")\n",
    "\n"
   ]
  },
  {
   "cell_type": "markdown",
   "id": "4349ce64-569f-446a-869c-0c97d3be77dc",
   "metadata": {},
   "source": [
    "### 💾 Export Plots"
   ]
  },
  {
   "cell_type": "code",
   "execution_count": null,
   "id": "706eae06-f904-4ffb-b577-bacaaec734d2",
   "metadata": {
    "tags": [],
    "vscode": {
     "languageId": "r"
    }
   },
   "outputs": [],
   "source": [
    "\n",
    "fileoutput <- paste(filename,'.png', sep='')\n",
    "ggplot2::ggsave(file=fileoutput, plot=img, width=width, height=height, bg='white')\n",
    "\n",
    "fileoutput <- paste(filename,'.svg', sep='')\n",
    "ggplot2::ggsave(file=fileoutput, plot=img, width=width, height=height)\n"
   ]
  },
  {
   "cell_type": "code",
   "execution_count": null,
   "id": "cfe893a5-edb9-449a-8723-907e22ff4470",
   "metadata": {},
   "outputs": [],
   "source": [
    "\n",
    "fileoutput <- paste0(filename, \"-barplot_stats.svg\")\n",
    "ggplot2::ggsave(file = fileoutput, plot = aligned_plots, width = width_aligned, height = height)\n",
    "\n",
    "fileoutput <- paste0(filename, \"-barplot_stats.png\")\n",
    "ggplot2::ggsave(file = fileoutput, plot = aligned_plots, width = width_aligned, height = height)\n"
   ]
  }
 ],
 "metadata": {
  "kernelspec": {
   "display_name": "R",
   "language": "R",
   "name": "ir"
  },
  "language_info": {
   "codemirror_mode": "r",
   "file_extension": ".r",
   "mimetype": "text/x-r-source",
   "name": "R",
   "pygments_lexer": "r",
   "version": "4.3.3"
  }
 },
 "nbformat": 4,
 "nbformat_minor": 5
}
