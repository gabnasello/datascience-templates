{
 "cells": [
  {
   "cell_type": "markdown",
   "id": "84b31452-a882-4bff-acbb-1a263093a2e4",
   "metadata": {},
   "source": [
    "<span STYLE=\"font-size:220%\"> \n",
    "    Examples datascience-env\n",
    "</span>\n",
    "\n",
    "# Plots\n",
    "\n",
    "## Bar plots\n",
    "\n",
    "| [2 Groups](barplots/barplot_2groups/barplot_2groups.ipynb) | \n",
    "|:-----------:|\n",
    "|  <a href=\"barplots/barplot_2groups/barplot_2groups.ipynb\">   <img src=\"barplots/barplot_2groups/data.png\" alt=\"image\" style=\"width:auto;height:300px;\"> </a>  |\n",
    "\n",
    "|  [Multiple Groups - One-way ANOVA](barplots/barplot_multiGroups_onewayANOVA/barplot_multiGroups_onewayANOVA.ipynb)    |  [Multiple Groups - kruskalWallis](barplots/barplot_multiGroups_kruskalWallis/barplot_multiGroups_kruskalWallis.ipynb)      |\n",
    "|:------------:|:------------:|\n",
    "|  <a href=\"barplots/barplot_multiGroups_onewayANOVA/barplot_multiGroups.ipynb\">   <img src=\"barplots/barplot_multiGroups_onewayANOVA/data-barplot_stats.png\" alt=\"image\" style=\"width:auto;height:300px;\"> </a>   |  <a href=\"barplots/barplot_multiGroups_kruskalWallis/barplot_multiGroups_kruskalWallis.ipynb\">   <img src=\"barplots/barplot_multiGroups_kruskalWallis/data-barplot_stats.png\" alt=\"image\" style=\"width:auto;height:300px;\"> </a>   |\n",
    "\n",
    "|  [Side-by-Side groups](barplots/barplot_side-by-side/barplot_side-by-side.ipynb)      |\n",
    "|:-----------:|\n",
    "|  <a href=\"barplots/barplot_side-by-side/barplot_side-by-side.ipynb\">   <img src=\"barplots/barplot_side-by-side/data.png\" alt=\"image\" style=\"width:auto;height:300px;\"> </a>   |\n",
    "\n",
    "## Line plots\n",
    "\n",
    "| [Mean Multiple Groups - Two-way ANOVA](lineplots/LinePlot_Analysis_Two_Way_ANOVA/LinePlot_Analysis_Two_Way_ANOVA.ipynb) |     |     |\n",
    "|:-----------:|:------------:|:------------:|\n",
    "|  <a href=\"lineplots/LinePlot_Analysis_Two_Way_ANOVA/LinePlot_Analysis_Two_Way_ANOVA\">   <img src=\"lineplots/LinePlot_Analysis_Two_Way_ANOVA/data-barplot_stats.png\" alt=\"image\" style=\"width:auto;height:300px;\"> </a>  |     |     |"
   ]
  },
  {
   "cell_type": "code",
   "execution_count": null,
   "id": "732d268e-e20c-49a2-9ddb-0ba9440ba41e",
   "metadata": {},
   "outputs": [],
   "source": []
  }
 ],
 "metadata": {
  "kernelspec": {
   "display_name": "Python 3 (ipykernel)",
   "language": "python",
   "name": "python3"
  },
  "language_info": {
   "codemirror_mode": {
    "name": "ipython",
    "version": 3
   },
   "file_extension": ".py",
   "mimetype": "text/x-python",
   "name": "python",
   "nbconvert_exporter": "python",
   "pygments_lexer": "ipython3",
   "version": "3.11.10"
  }
 },
 "nbformat": 4,
 "nbformat_minor": 5
}
