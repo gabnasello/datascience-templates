{
 "cells": [
  {
   "cell_type": "markdown",
   "id": "84b31452-a882-4bff-acbb-1a263093a2e4",
   "metadata": {},
   "source": [
    "<span STYLE=\"font-size:220%\"> \n",
    "    Examples datascience-env\n",
    "</span>\n",
    "\n",
    "# Plots\n",
    "\n",
    "## Bar plots\n",
    "\n",
    "| [2 groups](plots/barplots/barplot_2groups/barplot_2groups.ipynb) |  [Multiple groups](plots/barplots/barplot_multiGroups/barplot_multiGroups.ipynb)    |  [Side-by-Side groups](plots/barplots/barplot_side-by-side/barplot_side-by-side.ipynb)      |\n",
    "|:-----------:|:------------:|:------------:|\n",
    "|  <a href=\"plots/barplots/barplot_2groups/barplot_2groups.ipynb\">   <img src=\"plots/barplots/barplot_2groups/data.png\" alt=\"image\" style=\"width:auto;height:300px;\"> </a>  |  <a href=\"plots/barplots/barplot_multiGroups/barplot_multiGroups.ipynb\">   <img src=\"plots/barplots/barplot_multiGroups/data.png\" alt=\"image\" style=\"width:auto;height:300px;\"> </a>   |  <a href=\"plots/barplots/barplot_side-by-side/barplot_side-by-side.ipynb\">   <img src=\"plots/barplots/barplot_side-by-side/data.png\" alt=\"image\" style=\"width:auto;height:300px;\"> </a>   |\n",
    "\n",
    "## Line plots\n",
    "\n",
    "| [Mean 2 groups](plots/lineplots/lineplot_mean_2_groups/lineplot_mean_2_groups.ipynb) |     |     |\n",
    "|:-----------:|:------------:|:------------:|\n",
    "|  <a href=\"plots/lineplots/lineplot_mean_2_groups/lineplot_mean_2_groups.ipynb\">   <img src=\"plots/lineplots/lineplot_mean_2_groups/data.png\" alt=\"image\" style=\"width:auto;height:300px;\"> </a>  |     |     |\n",
    "\n",
    "# Statistics\n",
    "\n",
    "## Parametric tests\n",
    "\n",
    "### One-Way ANOVA\n",
    "\n",
    "| [One-Way ANOVA]() |    |        |\n",
    "|:-----------:|:------------:|:------------:|\n",
    "|  |   |   |\n",
    "\n",
    "### Two-Way ANOVA\n",
    "\n",
    "| [Two-Way ANOVA]() |  [Two-Way ANOVA]()    |  [Mixed Two-Way ANOVA]()      |\n",
    "|:-----------:|:------------:|:------------:|\n",
    "|  |   |   |"
   ]
  },
  {
   "cell_type": "code",
   "execution_count": null,
   "id": "564cdf74-baec-49f6-8bd8-0460f5c31877",
   "metadata": {},
   "outputs": [],
   "source": []
  }
 ],
 "metadata": {
  "kernelspec": {
   "display_name": "Python 3 (ipykernel)",
   "language": "python",
   "name": "python3"
  },
  "language_info": {
   "codemirror_mode": {
    "name": "ipython",
    "version": 3
   },
   "file_extension": ".py",
   "mimetype": "text/x-python",
   "name": "python",
   "nbconvert_exporter": "python",
   "pygments_lexer": "ipython3",
   "version": "3.11.6"
  }
 },
 "nbformat": 4,
 "nbformat_minor": 5
}
