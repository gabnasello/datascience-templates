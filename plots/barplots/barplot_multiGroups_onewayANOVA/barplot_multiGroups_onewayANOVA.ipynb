{
 "cells": [
  {
   "cell_type": "markdown",
   "id": "2b7a631a-83d7-4e8a-856b-5d3f893fbdb8",
   "metadata": {},
   "source": [
    "<span STYLE=\"font-size:200%\"> \n",
    "    Bar plots\n",
    "</span>\n",
    "\n",
    "Docker image: gnasello/datascience-env:2024-06-12\\\n",
    "Latest update: 26 June 2025"
   ]
  },
  {
   "cell_type": "markdown",
   "id": "8ec19f95-6dae-479c-a07a-bd0a39b78c43",
   "metadata": {},
   "source": [
    "# Load required packages"
   ]
  },
  {
   "cell_type": "code",
   "execution_count": null,
   "id": "8a6b6504-5f87-423e-a3f8-dd6ac618a62d",
   "metadata": {},
   "outputs": [],
   "source": [
    "# source('read_and_process_data.R')\n",
    "library(dataprepUtils)\n",
    "library(statsUtils)\n",
    "library(ggplotUtils)"
   ]
  },
  {
   "cell_type": "markdown",
   "id": "aa280e2e-a2f0-4a1f-bf28-96186d8c8152",
   "metadata": {},
   "source": [
    "# Data prep"
   ]
  },
  {
   "cell_type": "markdown",
   "id": "c7d2f57c-860b-4c12-ac7a-6aa0b45023d8",
   "metadata": {},
   "source": [
    "## Load data"
   ]
  },
  {
   "cell_type": "code",
   "execution_count": null,
   "id": "0711f2b6-74b6-4341-9402-7c689e3c282e",
   "metadata": {},
   "outputs": [],
   "source": [
    "filetable <- 'data.csv'\n",
    "filename <- tools::file_path_sans_ext(filetable)\n",
    "\n",
    "df <- read.csv(filetable)\n",
    "names(df)\n",
    "\n",
    "title <- ' '\n",
    "xlabel <- ' '\n",
    "ylabel <- 'CD25 MFI'\n",
    "\n",
    "scale_color_manual.values <- c(\"Blank\" = \"#8b8c8cff\", \n",
    "                               \"αCDs\" = \"#4dbbd5ff\", \n",
    "                               \"AS\" = \"#ff6666ff\", \n",
    "                               \"αCDs + AS\" = \"#4d9999ff\")\n",
    "\n",
    "# Use the function to read and process the data\n",
    "df <- read_and_process_data(filetable, \n",
    "                            x_col = \"x\", \n",
    "                            y_col = 'y',\n",
    "                            xlabels_ordered = names(scale_color_manual.values),\n",
    "                           )\n",
    "head(df)\n",
    "tail(df)"
   ]
  },
  {
   "cell_type": "markdown",
   "id": "230e1394-7761-4a37-8a55-8339015d7a7c",
   "metadata": {},
   "source": [
    "# Statistics"
   ]
  },
  {
   "cell_type": "markdown",
   "id": "048c5571-38ae-4526-b3d7-0b40a28b6907",
   "metadata": {
    "tags": []
   },
   "source": [
    "## Summarize the data"
   ]
  },
  {
   "cell_type": "markdown",
   "id": "9c210a7c-2c67-4394-af27-e558f32c8f19",
   "metadata": {
    "tags": []
   },
   "source": [
    "The function below will be used to calculate the mean and the standard deviation, for the variable of interest, in each group. See [tutorial](http://www.sthda.com/english/wiki/ggplot2-line-plot-quick-start-guide-r-software-and-data-visualization#line-graph-with-error-bars)"
   ]
  },
  {
   "cell_type": "code",
   "execution_count": null,
   "id": "c7d32e2f-373f-4d65-9172-3c3180648cb2",
   "metadata": {
    "tags": []
   },
   "outputs": [],
   "source": [
    "# Summarize the data \n",
    "df_summary <- statsUtils::data_summary(df, varname = \"y\", groupnames = c(\"x\"))\n",
    "print(df_summary)"
   ]
  },
  {
   "cell_type": "markdown",
   "id": "36668a73-9d3c-47f4-af39-e3fe5f857cab",
   "metadata": {},
   "source": [
    "## One-way ANOVA\n",
    "\n",
    "Steps for ANOVA in R were adapted from [www.datanovia.com/en/lessons/anova-in-r/](https://www.datanovia.com/en/lessons/anova-in-r/)"
   ]
  },
  {
   "cell_type": "markdown",
   "id": "d46265f6-c4a3-4c32-8b23-4364d01f3e3c",
   "metadata": {},
   "source": [
    "### Check ANOVA assumptions"
   ]
  },
  {
   "cell_type": "code",
   "execution_count": null,
   "id": "9766fb1c-df3d-48a7-a1f4-4bf969e97428",
   "metadata": {},
   "outputs": [],
   "source": [
    "check_anova_assumptions(df, response = 'y', group = 'x')"
   ]
  },
  {
   "cell_type": "markdown",
   "id": "931bd149-1962-4a7d-9b8e-451c701915c5",
   "metadata": {},
   "source": [
    "## Computation"
   ]
  },
  {
   "cell_type": "markdown",
   "id": "b08ae6e3-f7a5-4cbb-93a7-40c8283d00f5",
   "metadata": {},
   "source": [
    "Theory on Bivariate, Parametric vs Non Parametric Tests - https://www.youtube.com/watch?v=dyGjxBi4-qo&list=PLqzoL9-eJTNCYvKwinVR0kwhm_HSnYzQo&index=6\n",
    "\n",
    "Theory One Way ANOVA (Analysis of Variance): Introduction - https://www.youtube.com/watch?v=_VFLX7xJuqk\n",
    "\n",
    "Implementation in R - https://www.youtube.com/watch?v=lpdFr5SZR0Q"
   ]
  },
  {
   "cell_type": "markdown",
   "id": "fdc43c12-ef3e-42cd-84fa-b533aee440d2",
   "metadata": {},
   "source": [
    "**Why ANOVA?**\n",
    "\n",
    "Independent variable - Independent groups - Qualitative (> 2 levels) - Parametric\n",
    "\n",
    "Outcome variable - Quantitative"
   ]
  },
  {
   "cell_type": "code",
   "execution_count": null,
   "id": "c4c3d786-96ca-4e61-a5e7-e9b94051f928",
   "metadata": {},
   "outputs": [],
   "source": [
    "# Define the formula as a variable\n",
    "formula_var <- y ~ x\n",
    "\n",
    "# Run the ANOVA test without using the pipe\n",
    "res.aov <- rstatix::anova_test(data = df, formula = formula_var)\n",
    "\n",
    "# View the result\n",
    "res.aov"
   ]
  },
  {
   "cell_type": "markdown",
   "id": "4ae8e10f-fb3c-4f53-b514-266be3f57c03",
   "metadata": {},
   "source": [
    "## Post-hoc tests"
   ]
  },
  {
   "cell_type": "markdown",
   "id": "5710a165-91ee-487b-9a12-61b5560751c5",
   "metadata": {},
   "source": [
    "\n",
    "A significant one-way ANOVA is generally followed up by Tukey post-hoc tests to perform multiple pairwise comparisons between groups. Key R function: tukey_hsd() [rstatix]."
   ]
  },
  {
   "cell_type": "code",
   "execution_count": null,
   "id": "37e975a7-ca51-44f6-a869-71b932078e8f",
   "metadata": {},
   "outputs": [],
   "source": [
    "# Pairwise comparisons without using the pipe\n",
    "pwc <- rstatix::tukey_hsd(df, formula = formula_var)\n",
    "\n",
    "# View the result\n",
    "pwc"
   ]
  },
  {
   "cell_type": "markdown",
   "id": "5c428ee0-0cff-4bdb-9c03-3db60cac4250",
   "metadata": {},
   "source": [
    "# Visualization"
   ]
  },
  {
   "cell_type": "code",
   "execution_count": null,
   "id": "fa4e40ee-c6f0-4865-b9d6-4df09143e1cd",
   "metadata": {},
   "outputs": [],
   "source": [
    "ylim <- c(0,35000)\n",
    "width=4.4\n",
    "height=7.6"
   ]
  },
  {
   "cell_type": "markdown",
   "id": "d2ffce00-d59c-4dc3-bb97-09efacf22b77",
   "metadata": {},
   "source": [
    "## Bar plot of `y` over `x`"
   ]
  },
  {
   "cell_type": "code",
   "execution_count": null,
   "id": "bc52002b-7d75-4b3d-9462-66bfde0af62c",
   "metadata": {},
   "outputs": [],
   "source": [
    "names(scale_color_manual.values)"
   ]
  },
  {
   "cell_type": "code",
   "execution_count": null,
   "id": "68340c51-b527-4975-ba4f-9e1427022b72",
   "metadata": {},
   "outputs": [],
   "source": [
    "p <- create_complete_barplot(df,\n",
    "                             width=width,\n",
    "                             height=height,\n",
    "                             ylim=ylim,\n",
    "                             scale_color_manual.values = scale_color_manual.values,\n",
    "                             # filename = paste(filename, '-barplot', sep=''),\n",
    "                             ylabel = ylabel\n",
    "                            )\n",
    "\n",
    "p"
   ]
  },
  {
   "cell_type": "markdown",
   "id": "7e6ed26f-14dd-44d2-a679-fb2a93bb5241",
   "metadata": {},
   "source": [
    "## Bar plots with p-values"
   ]
  },
  {
   "cell_type": "code",
   "execution_count": null,
   "id": "8014302c-3b53-484f-81d7-c738947e6093",
   "metadata": {},
   "outputs": [],
   "source": [
    "pwc <- rstatix::add_xy_position(pwc, x = \"x\")\n",
    "\n",
    "p_stats <- add_stat_annotations_auto(p, pwc, y.buffer=0.5)\n",
    "p_stats"
   ]
  },
  {
   "cell_type": "markdown",
   "id": "669fb896-3cbd-4ce0-8a2e-3ac6c496a384",
   "metadata": {},
   "source": [
    "## Arrange plots with automatic alignment"
   ]
  },
  {
   "cell_type": "code",
   "execution_count": null,
   "id": "ac1b13c0-857f-430c-b42a-7f27de0e2eaa",
   "metadata": {},
   "outputs": [],
   "source": [
    "width_aligned = 2*width\n",
    "options(repr.plot.width = width_aligned)\n",
    "\n",
    "\n",
    "# Arrange plots with automatic alignment\n",
    "aligned_plots <- ggpubr::ggarrange(p, p_stats,\n",
    "                                   nrow = 1,                # Arrange plots horizontally\n",
    "                                   align = \"hv\",            # Align both horizontally and vertically\n",
    "                                   common.legend = FALSE    # Option to share a legend\n",
    "                                   )\n",
    "\n",
    "aligned_plots"
   ]
  },
  {
   "cell_type": "markdown",
   "id": "42b45f99-5771-49eb-bf7c-8d0594f2bda2",
   "metadata": {},
   "source": [
    "## Export plot"
   ]
  },
  {
   "cell_type": "markdown",
   "id": "68e80ba1-6b7c-4adc-b3a0-69bccda9bb65",
   "metadata": {},
   "source": [
    "## `.svg` file"
   ]
  },
  {
   "cell_type": "code",
   "execution_count": null,
   "id": "706eae06-f904-4ffb-b577-bacaaec734d2",
   "metadata": {
    "tags": []
   },
   "outputs": [],
   "source": [
    "fileoutput <- paste(filename, '-barplot_stats','.svg', sep='')\n",
    "fileoutput"
   ]
  },
  {
   "cell_type": "code",
   "execution_count": null,
   "id": "cfb212a4-16eb-4f00-b6c6-825780324845",
   "metadata": {
    "tags": []
   },
   "outputs": [],
   "source": [
    "ggplot2::ggsave(file=fileoutput, plot=aligned_plots, width=width_aligned, height=height)"
   ]
  },
  {
   "cell_type": "markdown",
   "id": "90934bf0-0a4a-4e25-9017-ddbbaa58f02f",
   "metadata": {},
   "source": [
    "## `.svg` file"
   ]
  },
  {
   "cell_type": "code",
   "execution_count": null,
   "id": "1a6568ec-5823-4908-b303-2ccff99fd758",
   "metadata": {
    "scrolled": true,
    "tags": []
   },
   "outputs": [],
   "source": [
    "fileoutput <- paste(filename, '-barplot_stats','.png', sep='')\n",
    "fileoutput"
   ]
  },
  {
   "cell_type": "code",
   "execution_count": null,
   "id": "081fb4ec-6bf5-4966-ac97-6d13531396fd",
   "metadata": {
    "tags": []
   },
   "outputs": [],
   "source": [
    "ggplot2::ggsave(file=fileoutput, plot=aligned_plots, width=width_aligned, height=height)"
   ]
  },
  {
   "cell_type": "code",
   "execution_count": null,
   "id": "738582f7-49d8-4107-9b67-8a87e61e3bce",
   "metadata": {},
   "outputs": [],
   "source": []
  }
 ],
 "metadata": {
  "kernelspec": {
   "display_name": "R",
   "language": "R",
   "name": "ir"
  },
  "language_info": {
   "codemirror_mode": "r",
   "file_extension": ".r",
   "mimetype": "text/x-r-source",
   "name": "R",
   "pygments_lexer": "r",
   "version": "4.3.3"
  }
 },
 "nbformat": 4,
 "nbformat_minor": 5
}
