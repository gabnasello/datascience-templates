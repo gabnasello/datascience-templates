{
 "cells": [
  {
   "cell_type": "markdown",
   "id": "2b7a631a-83d7-4e8a-856b-5d3f893fbdb8",
   "metadata": {},
   "source": [
    "<span STYLE=\"font-size:200%\"> \n",
    "    Lineplot showing mean values of each group\n",
    "</span>\n",
    "\n",
    "Docker image: gnasello/datascience-env:2023-01-23\\\n",
    "Latest update: 06 February 2024"
   ]
  },
  {
   "cell_type": "markdown",
   "id": "8ec19f95-6dae-479c-a07a-bd0a39b78c43",
   "metadata": {},
   "source": [
    "# Load required packages"
   ]
  },
  {
   "cell_type": "code",
   "execution_count": null,
   "id": "b960f27a-66e1-4542-8faa-5608291d56ac",
   "metadata": {
    "tags": [],
    "vscode": {
     "languageId": "r"
    }
   },
   "outputs": [],
   "source": [
    "library(ggplot2)\n",
    "library(dataprepUtils)\n",
    "library(ggplotUtils)\n",
    "library(statsUtils)\n",
    "library(rstatix)\n",
    "library(lme4)\n",
    "library(emmeans)"
   ]
  },
  {
   "cell_type": "markdown",
   "id": "c7d2f57c-860b-4c12-ac7a-6aa0b45023d8",
   "metadata": {},
   "source": [
    "# Load data"
   ]
  },
  {
   "cell_type": "code",
   "execution_count": null,
   "id": "545adf48-6d93-435e-ab5b-02e097a2dcba",
   "metadata": {
    "tags": [],
    "vscode": {
     "languageId": "r"
    }
   },
   "outputs": [],
   "source": [
    "filetable <- 'data.csv'\n",
    "\n",
    "title <- 'Plot Title'\n",
    "xlabel <- 'Time (day)'\n",
    "ylabel <- 'Cumulative release (%)'\n",
    "\n",
    "# color of each group\n",
    "#scale_color_manual.values <- c(\"#8b8c8cff\", \"#4dbbd5ff\", \"#ff6666ff\", \"#4d9999ff\")\n",
    "scale_color_manual.values <- c(\"#dca01cff\", \"#386e28ff\", \"#004488\", \"#4dbbd5ff\")\n",
    "\n",
    "# scale_color_manual.values <- c(\"Blank\" = \"#8b8c8cff\", \n",
    "#                                \"αCDs\" = \"#4dbbd5ff\", \n",
    "#                                \"AS\" = \"#ff6666ff\", \n",
    "#                                \"αCDs + AS\" = \"#4d9999ff\")\n",
    "\n",
    "# Use the function to read and process the data\n",
    "df <- read_and_process_data(filetable, \n",
    "                            x_col = \"day\", \n",
    "                            y_col = 'cumulative_percentage',\n",
    "                            group = 'condition',\n",
    "                            # xlabels_ordered = names(scale_color_manual.values),\n",
    "                           )\n",
    "head(df)\n",
    "tail(df)"
   ]
  },
  {
   "cell_type": "markdown",
   "id": "f88668f6-f7cb-485b-b43e-a83c7fcf98aa",
   "metadata": {},
   "source": [
    "# Line plot of `y` over `x`"
   ]
  },
  {
   "cell_type": "markdown",
   "id": "048c5571-38ae-4526-b3d7-0b40a28b6907",
   "metadata": {
    "tags": []
   },
   "source": [
    "## Summarize the data"
   ]
  },
  {
   "cell_type": "markdown",
   "id": "9c210a7c-2c67-4394-af27-e558f32c8f19",
   "metadata": {
    "tags": []
   },
   "source": [
    "The function below will be used to calculate the mean and the standard deviation, for the variable of interest, in each group. See [tutorial](http://www.sthda.com/english/wiki/ggplot2-line-plot-quick-start-guide-r-software-and-data-visualization#line-graph-with-error-bars)"
   ]
  },
  {
   "cell_type": "code",
   "execution_count": null,
   "id": "bbffdedb-1831-4575-b981-2ceeaf9ff4ad",
   "metadata": {
    "scrolled": true,
    "tags": []
   },
   "outputs": [],
   "source": [
    "df_summary <- data_summary(df, varname=\"y\", \n",
    "                           groupnames=c(\"group\", \"x\"))\n",
    "df_summary <- df_summary[complete.cases(df_summary$x),]\n",
    "\n",
    "df_summary"
   ]
  },
  {
   "cell_type": "markdown",
   "id": "6f5ce1da-232e-4b8b-bb33-533e5a7f733d",
   "metadata": {
    "tags": []
   },
   "source": [
    "## Bar plot with point data"
   ]
  },
  {
   "cell_type": "code",
   "execution_count": null,
   "id": "97da4453-f33a-4ac1-8b29-955eb9102ce2",
   "metadata": {
    "tags": []
   },
   "outputs": [],
   "source": [
    "color='#404040ff'\n",
    "\n",
    "ylim <- c(0,110)\n",
    "xlim <- c(0,8.5)\n",
    "width=9\n",
    "height=7.6\n",
    "\n",
    "p <- ggplot() +\n",
    "     geom_line(data=df_summary, aes(x=x, y=mean, color=group), linewidth=1.5) +\n",
    "     geom_point(data=df_summary, aes(x=x, y=mean, color=group), size=4.5, shape=15, stroke=2) +\n",
    "     geom_errorbar(data=df_summary, aes(x=x, y=mean, ymin=mean-sd, ymax=mean+sd), width=.4, linewidth=0.75, color=color)\n",
    "\n",
    "img <- apply_minimal_theme(p, width=width, height=height,\n",
    "                           title=title,\n",
    "                           plot.title = element_text(size = 24),\n",
    "                           axis.text=element_text(size=24),\n",
    "                           axis.title=element_text(size=26),\n",
    "                           xlabel = xlabel, \n",
    "                           ylabel= ylabel, \n",
    "                           xlim = xlim,\n",
    "                           ylim = ylim,\n",
    "                           scale_color_manual.values = scale_color_manual.values,\n",
    "                          ) + \n",
    "            theme(axis.line.x.bottom=element_line(linewidth=0.75),\n",
    "                  axis.line.y.left=element_line(linewidth=0.75))#+\n",
    "            # scale_x_continuous(breaks = seq(0, 16, by = 3))\n",
    "\n",
    "img"
   ]
  },
  {
   "cell_type": "markdown",
   "id": "42b45f99-5771-49eb-bf7c-8d0594f2bda2",
   "metadata": {},
   "source": [
    "# Export plot"
   ]
  },
  {
   "cell_type": "code",
   "execution_count": null,
   "id": "e8c0c4b4-aea4-4b27-abf5-9c7d65f8943f",
   "metadata": {
    "tags": [],
    "vscode": {
     "languageId": "r"
    }
   },
   "outputs": [],
   "source": [
    "filename <- tools::file_path_sans_ext(filetable)\n",
    "filename"
   ]
  },
  {
   "cell_type": "markdown",
   "id": "97ccb82f-b238-4b73-bf35-2a58900dbf8a",
   "metadata": {},
   "source": [
    "## `.png` file"
   ]
  },
  {
   "cell_type": "code",
   "execution_count": null,
   "id": "75e94729-8c96-47ab-b4cd-b08aba3513e9",
   "metadata": {
    "tags": [],
    "vscode": {
     "languageId": "r"
    }
   },
   "outputs": [],
   "source": [
    "fileoutput <- paste(filename,'.png', sep='')\n",
    "fileoutput"
   ]
  },
  {
   "cell_type": "code",
   "execution_count": null,
   "id": "af92b37d-971e-4d8b-9f97-38c30fdcc0a5",
   "metadata": {
    "tags": [],
    "vscode": {
     "languageId": "r"
    }
   },
   "outputs": [],
   "source": [
    "ggsave(file=fileoutput, plot=img, width=width, height=height, bg='white')"
   ]
  },
  {
   "cell_type": "markdown",
   "id": "68e80ba1-6b7c-4adc-b3a0-69bccda9bb65",
   "metadata": {},
   "source": [
    "## `.svg` file"
   ]
  },
  {
   "cell_type": "code",
   "execution_count": null,
   "id": "706eae06-f904-4ffb-b577-bacaaec734d2",
   "metadata": {
    "tags": [],
    "vscode": {
     "languageId": "r"
    }
   },
   "outputs": [],
   "source": [
    "fileoutput <- paste(filename,'.svg', sep='')\n",
    "fileoutput"
   ]
  },
  {
   "cell_type": "code",
   "execution_count": null,
   "id": "cfb212a4-16eb-4f00-b6c6-825780324845",
   "metadata": {
    "tags": [],
    "vscode": {
     "languageId": "r"
    }
   },
   "outputs": [],
   "source": [
    "ggsave(file=fileoutput, plot=img, width=width, height=height)"
   ]
  },
  {
   "cell_type": "markdown",
   "id": "650e940f-ff0b-4f5a-b4b5-abbe4528943c",
   "metadata": {},
   "source": [
    "# Two-way mixed ANOVA"
   ]
  },
  {
   "cell_type": "markdown",
   "id": "0ad2fdc9-0458-43f4-a551-a4909d549757",
   "metadata": {},
   "source": [
    "Read more on the theory of this method on [Datanovia](https://www.datanovia.com/en/lessons/mixed-anova-in-r/#two-way-mixed)"
   ]
  },
  {
   "cell_type": "markdown",
   "id": "0351d562-4ff3-415a-ab07-b10bd471b1d6",
   "metadata": {},
   "source": [
    "## Computation"
   ]
  },
  {
   "cell_type": "code",
   "execution_count": null,
   "id": "0dd8f270-6b54-41d9-a138-55ce525a6b15",
   "metadata": {},
   "outputs": [],
   "source": [
    "# Two-way mixed ANOVA test\n",
    "res.aov <- anova_test(\n",
    "                      data = df, dv = y, wid = sample,\n",
    "                      between = group, within = x\n",
    "                      )\n",
    "get_anova_table(res.aov)"
   ]
  },
  {
   "cell_type": "markdown",
   "id": "44b58f57-524c-4599-b627-e5a4cc7edfe9",
   "metadata": {},
   "source": [
    "## Post-hoc tests"
   ]
  },
  {
   "cell_type": "markdown",
   "id": "2609f7ce-61c1-4f6e-80eb-dd50d95c6538",
   "metadata": {},
   "source": [
    "### Compute simple main effect"
   ]
  },
  {
   "cell_type": "markdown",
   "id": "bdd9bce2-544a-47e0-8bf5-eb8a389e2c41",
   "metadata": {},
   "source": [
    "Procedure for a significant two-way interaction"
   ]
  },
  {
   "cell_type": "code",
   "execution_count": null,
   "id": "4797c4e6-ebd8-4bc0-b2f5-ab7cd26cbcc4",
   "metadata": {},
   "outputs": [],
   "source": [
    "# Effect of group at each time point\n",
    "one.way <- df %>%\n",
    "              group_by(x) %>%\n",
    "              anova_test(dv = y, wid = sample, between = group) %>%\n",
    "              get_anova_table() %>%\n",
    "              adjust_pvalue(method = \"bonferroni\")\n",
    "one.way"
   ]
  },
  {
   "cell_type": "markdown",
   "id": "dcc0ec08-78d5-4047-ba29-e8e3f6fc2f4c",
   "metadata": {},
   "source": [
    "Procedure for non-significant two-way interaction"
   ]
  },
  {
   "cell_type": "code",
   "execution_count": null,
   "id": "be64e4fc-65e5-4ddf-82fe-95cc53437638",
   "metadata": {},
   "outputs": [],
   "source": [
    "df %>%\n",
    "      pairwise_t_test(\n",
    "        y ~ group, paired = TRUE, \n",
    "        p.adjust.method = \"bonferroni\"\n",
    "      )"
   ]
  },
  {
   "cell_type": "markdown",
   "id": "3418b87a-6555-4ba4-b9e4-31c4c1806ed5",
   "metadata": {},
   "source": [
    "### Simple pairwise comparisons"
   ]
  },
  {
   "cell_type": "code",
   "execution_count": null,
   "id": "f7ecb07b-dafb-4753-941c-96394eb65c53",
   "metadata": {},
   "outputs": [],
   "source": [
    "# Pairwise comparisons between group levels\n",
    "pwc <- df %>%\n",
    "          group_by(x) %>%\n",
    "          pairwise_t_test(y ~ group, p.adjust.method = \"bonferroni\")\n",
    "pwc"
   ]
  }
 ],
 "metadata": {
  "kernelspec": {
   "display_name": "R",
   "language": "R",
   "name": "ir"
  },
  "language_info": {
   "codemirror_mode": "r",
   "file_extension": ".r",
   "mimetype": "text/x-r-source",
   "name": "R",
   "pygments_lexer": "r",
   "version": "4.3.3"
  }
 },
 "nbformat": 4,
 "nbformat_minor": 5
}
